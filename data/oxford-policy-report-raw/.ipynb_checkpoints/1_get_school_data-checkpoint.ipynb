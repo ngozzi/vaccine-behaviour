{
 "cells": [
  {
   "cell_type": "code",
   "execution_count": 3,
   "metadata": {},
   "outputs": [],
   "source": [
    "# libraries\n",
    "import pandas as pd\n",
    "from datetime import datetime\n",
    "\n",
    "school_columns = [\"C1_School closing\", \"C2_Workplace closing\", \"C6_Stay at home requirements\"]"
   ]
  },
  {
   "cell_type": "markdown",
   "metadata": {},
   "source": [
    "# covid-policy-tracker\n",
    "https://www.bsg.ox.ac.uk/research/research-projects/coronavirus-government-response-tracker#data"
   ]
  },
  {
   "cell_type": "markdown",
   "metadata": {},
   "source": [
    "Get the data:"
   ]
  },
  {
   "cell_type": "code",
   "execution_count": 4,
   "metadata": {},
   "outputs": [],
   "source": [
    "df = pd.read_csv(\"https://raw.githubusercontent.com/OxCGRT/covid-policy-tracker/master/data/OxCGRT_latest.csv\")\n",
    "\n",
    "# parse dates \n",
    "dates = []\n",
    "for index, row in df.iterrows():\n",
    "    year, month, day  = str(row[\"Date\"])[0:4], str(row[\"Date\"])[4:6], str(row[\"Date\"])[6:8]\n",
    "    dates.append(datetime(int(year), int(month), int(day)))\n",
    "df[\"date\"] = pd.to_datetime(dates)\n",
    "#df = df.loc[df.date <= \"2021-03-07\"].reset_index(drop=True)\n",
    "df.index = df[\"date\"]\n",
    "\n",
    "\n",
    "## ITALY ##\n",
    "# loc country and keep selected columns\n",
    "italy = df.loc[df.CountryName==\"Italy\"]\n",
    "italy = italy[school_columns]\n",
    "# sort by date and fill nan\n",
    "italy.sort_values(by=\"date\", inplace=True)\n",
    "italy.fillna(method=\"ffill\", inplace=True)\n",
    "italy.to_csv(\"../countries/Italy/restrictions/school.csv\")\n",
    "\n",
    "\n",
    "## Serbia ##\n",
    "# loc country and keep selected columns\n",
    "Serbia = df.loc[df.CountryName==\"Serbia\"]\n",
    "Serbia = Serbia[school_columns]\n",
    "# sort by date and fill nan\n",
    "Serbia.sort_values(by=\"date\", inplace=True)\n",
    "Serbia.fillna(method=\"ffill\", inplace=True)\n",
    "Serbia.to_csv(\"../countries/Serbia/restrictions/school.csv\")\n",
    "\n",
    "\n",
    "## Ukraine ##\n",
    "# loc country and keep selected columns\n",
    "Ukraine = df.loc[df.CountryName==\"Ukraine\"]\n",
    "Ukraine = Ukraine[school_columns]\n",
    "# sort by date and fill nan\n",
    "Ukraine.sort_values(by=\"date\", inplace=True)\n",
    "Ukraine.fillna(method=\"ffill\", inplace=True)\n",
    "Ukraine.to_csv(\"../countries/Ukraine/restrictions/school.csv\")\n",
    "\n",
    "\n",
    "## Peru ##\n",
    "# loc country and keep selected columns\n",
    "Peru = df.loc[df.CountryName==\"Peru\"]\n",
    "Peru = Peru[school_columns]\n",
    "# sort by date and fill nan\n",
    "Peru.sort_values(by=\"date\", inplace=True)\n",
    "Peru.fillna(method=\"ffill\", inplace=True)\n",
    "Peru.to_csv(\"../countries/Peru/restrictions/school.csv\")\n",
    "\n",
    "\n",
    "## Canada ##\n",
    "# loc country and keep selected columns\n",
    "Canada = df.loc[(df.CountryName==\"Canada\") & (df.RegionName.isna())]\n",
    "Canada = Canada[school_columns]\n",
    "# sort by date and fill nan\n",
    "Canada.sort_values(by=\"date\", inplace=True)\n",
    "Canada.fillna(method=\"ffill\", inplace=True)\n",
    "Canada.to_csv(\"../countries/Canada/restrictions/school.csv\")\n",
    "\n",
    "\n",
    "## Egypt ##\n",
    "# loc country and keep selected columns\n",
    "Egypt = df.loc[df.CountryName==\"Egypt\"]\n",
    "Egypt = Egypt[school_columns]\n",
    "# sort by date and fill nan\n",
    "Egypt.sort_values(by=\"date\", inplace=True)\n",
    "Egypt.fillna(method=\"ffill\", inplace=True)\n",
    "Egypt.to_csv(\"../countries/Egypt/restrictions/school.csv\")"
   ]
  },
  {
   "cell_type": "code",
   "execution_count": null,
   "metadata": {},
   "outputs": [],
   "source": []
  }
 ],
 "metadata": {
  "kernelspec": {
   "display_name": "Python 3",
   "language": "python",
   "name": "python3"
  },
  "language_info": {
   "codemirror_mode": {
    "name": "ipython",
    "version": 3
   },
   "file_extension": ".py",
   "mimetype": "text/x-python",
   "name": "python",
   "nbconvert_exporter": "python",
   "pygments_lexer": "ipython3",
   "version": "3.7.4"
  }
 },
 "nbformat": 4,
 "nbformat_minor": 4
}
