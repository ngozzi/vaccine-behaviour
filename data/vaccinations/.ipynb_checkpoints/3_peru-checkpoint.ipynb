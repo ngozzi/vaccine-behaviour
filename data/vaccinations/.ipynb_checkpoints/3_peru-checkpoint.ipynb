{
 "cells": [
  {
   "cell_type": "code",
   "execution_count": 36,
   "metadata": {},
   "outputs": [],
   "source": [
    "# libraries\n",
    "import pandas as pd\n",
    "import numpy as np\n",
    "from datetime import datetime, timedelta"
   ]
  },
  {
   "cell_type": "code",
   "execution_count": 48,
   "metadata": {},
   "outputs": [],
   "source": [
    "# import data\n",
    "df = pd.read_csv(\"./vacunas_covid.csv\")\n",
    "\n",
    "# parse dates\n",
    "parse_dates = lambda string : datetime(int(str(string)[0:4]), int(str(string)[4:6]), int(str(string)[6:8]))\n",
    "df[\"date\"] = pd.to_datetime(df[\"FECHA_VACUNACION\"].apply(parse_dates))\n",
    "\n",
    "# keep only first dose\n",
    "df = df.loc[df.DOSIS == 1].reset_index(drop=True)"
   ]
  },
  {
   "cell_type": "code",
   "execution_count": 49,
   "metadata": {},
   "outputs": [],
   "source": [
    "vaccinations = {}\n",
    "\n",
    "date = datetime(2021, 1, 1)\n",
    "while date <= datetime(2021, 3, 25):\n",
    "    \n",
    "    vaccinations[date] = np.zeros(16) # n. of our age groups\n",
    "    \n",
    "    # loc date\n",
    "    df_date = df.loc[df[\"date\"] == date]\n",
    "    #if df_date.shape[0] != 0:\n",
    "    \n",
    "    vaccinations[date][0]  += df_date.loc[(df_date.EDAD >= 0) & (df_date.EDAD <= 4)].shape[0] # 0-4\n",
    "    vaccinations[date][1]  += df_date.loc[(df_date.EDAD >= 5) & (df_date.EDAD <= 9)].shape[0] # 5-9\n",
    "    vaccinations[date][2]  += df_date.loc[(df_date.EDAD >= 10) & (df_date.EDAD <= 14)].shape[0] # 10-14\n",
    "    vaccinations[date][3]  += df_date.loc[(df_date.EDAD >= 15) & (df_date.EDAD <= 19)].shape[0] # 15-19\n",
    "    vaccinations[date][4]  += df_date.loc[(df_date.EDAD >= 20) & (df_date.EDAD <= 24)].shape[0] # 20-24\n",
    "    vaccinations[date][5]  += df_date.loc[(df_date.EDAD >= 25) & (df_date.EDAD <= 29)].shape[0] # 25-29\n",
    "    vaccinations[date][6]  += df_date.loc[(df_date.EDAD >= 30) & (df_date.EDAD <= 34)].shape[0] # 30-34\n",
    "    vaccinations[date][7]  += df_date.loc[(df_date.EDAD >= 35) & (df_date.EDAD <= 39)].shape[0] # 35-39\n",
    "    vaccinations[date][8]  += df_date.loc[(df_date.EDAD >= 40) & (df_date.EDAD <= 44)].shape[0] # 40-44\n",
    "    vaccinations[date][9]  += df_date.loc[(df_date.EDAD >= 45) & (df_date.EDAD <= 49)].shape[0] # 45-49\n",
    "    vaccinations[date][10] += df_date.loc[(df_date.EDAD >= 50) & (df_date.EDAD <= 54)].shape[0] # 50-54\n",
    "    vaccinations[date][11] += df_date.loc[(df_date.EDAD >= 55) & (df_date.EDAD <= 59)].shape[0] # 55-59\n",
    "    vaccinations[date][12] += df_date.loc[(df_date.EDAD >= 60) & (df_date.EDAD <= 64)].shape[0] # 60-64\n",
    "    vaccinations[date][13] += df_date.loc[(df_date.EDAD >= 65) & (df_date.EDAD <= 69)].shape[0] # 65-69\n",
    "    vaccinations[date][14] += df_date.loc[(df_date.EDAD >= 70) & (df_date.EDAD <= 74)].shape[0] # 70-74\n",
    "    vaccinations[date][15] += df_date.loc[(df_date.EDAD >= 75)].shape[0] # 75+\n",
    "\n",
    "    date += timedelta(days=1)"
   ]
  },
  {
   "cell_type": "code",
   "execution_count": 53,
   "metadata": {},
   "outputs": [],
   "source": [
    "import pickle as pkl\n",
    "with open(\"../countries/Peru/vaccinations/vaccinations.pkl\", \"wb\") as file:\n",
    "    pkl.dump(vaccinations, file)"
   ]
  },
  {
   "cell_type": "code",
   "execution_count": null,
   "metadata": {},
   "outputs": [],
   "source": []
  }
 ],
 "metadata": {
  "kernelspec": {
   "display_name": "Python 3",
   "language": "python",
   "name": "python3"
  },
  "language_info": {
   "codemirror_mode": {
    "name": "ipython",
    "version": 3
   },
   "file_extension": ".py",
   "mimetype": "text/x-python",
   "name": "python",
   "nbconvert_exporter": "python",
   "pygments_lexer": "ipython3",
   "version": "3.7.4"
  }
 },
 "nbformat": 4,
 "nbformat_minor": 4
}
