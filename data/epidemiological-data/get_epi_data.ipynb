{
 "cells": [
  {
   "cell_type": "code",
   "execution_count": 2,
   "metadata": {},
   "outputs": [],
   "source": [
    "# libraries\n",
    "import pandas as pd\n",
    "from datetime import datetime, timedelta"
   ]
  },
  {
   "cell_type": "markdown",
   "metadata": {},
   "source": [
    "# ECDC Epidemiological Data\n",
    "https://www.ecdc.europa.eu/en/publications-data/data-national-14-day-notification-rate-covid-19"
   ]
  },
  {
   "cell_type": "code",
   "execution_count": 3,
   "metadata": {},
   "outputs": [],
   "source": [
    "def save_epi_data(country):\n",
    "    \n",
    "    # import data\n",
    "    df = pd.read_csv(\"./ecdc_data.csv\")\n",
    "\n",
    "    # keep selected columns \n",
    "    df = df[[\"country\", \"indicator\", \"year_week\", \"cumulative_count\"]]\n",
    "\n",
    "    # loc country deaths and save\n",
    "    deaths_country = df.loc[(df.country==country) & (df.indicator==\"deaths\")]\n",
    "    deaths_country.sort_values(by=\"year_week\", inplace=True, ignore_index=True)\n",
    "    deaths_country[\"weekly_count\"] = deaths_country[\"cumulative_count\"].diff()\n",
    "    deaths_country.to_csv(\"../countries/\" + country.replace(\" \", \"_\") + \"/epidemiological/deaths.csv\", index=False)\n",
    "\n",
    "    # loc country cases and save\n",
    "    cases_country  = df.loc[(df.country==country) & (df.indicator==\"cases\")]\n",
    "    cases_country.sort_values(by=\"year_week\", inplace=True, ignore_index=True)\n",
    "    cases_country[\"weekly_count\"] = cases_country[\"cumulative_count\"].diff()\n",
    "    cases_country.to_csv(\"../countries/\" + country.replace(\" \", \"_\") + \"/epidemiological/cases.csv\", index=False)"
   ]
  },
  {
   "cell_type": "code",
   "execution_count": 4,
   "metadata": {},
   "outputs": [
    {
     "name": "stderr",
     "output_type": "stream",
     "text": [
      "/opt/anaconda3/lib/python3.7/site-packages/ipykernel_launcher.py:11: SettingWithCopyWarning: \n",
      "A value is trying to be set on a copy of a slice from a DataFrame\n",
      "\n",
      "See the caveats in the documentation: https://pandas.pydata.org/pandas-docs/stable/user_guide/indexing.html#returning-a-view-versus-a-copy\n",
      "  # This is added back by InteractiveShellApp.init_path()\n",
      "/opt/anaconda3/lib/python3.7/site-packages/ipykernel_launcher.py:12: SettingWithCopyWarning: \n",
      "A value is trying to be set on a copy of a slice from a DataFrame.\n",
      "Try using .loc[row_indexer,col_indexer] = value instead\n",
      "\n",
      "See the caveats in the documentation: https://pandas.pydata.org/pandas-docs/stable/user_guide/indexing.html#returning-a-view-versus-a-copy\n",
      "  if sys.path[0] == '':\n",
      "/opt/anaconda3/lib/python3.7/site-packages/ipykernel_launcher.py:17: SettingWithCopyWarning: \n",
      "A value is trying to be set on a copy of a slice from a DataFrame\n",
      "\n",
      "See the caveats in the documentation: https://pandas.pydata.org/pandas-docs/stable/user_guide/indexing.html#returning-a-view-versus-a-copy\n",
      "/opt/anaconda3/lib/python3.7/site-packages/ipykernel_launcher.py:18: SettingWithCopyWarning: \n",
      "A value is trying to be set on a copy of a slice from a DataFrame.\n",
      "Try using .loc[row_indexer,col_indexer] = value instead\n",
      "\n",
      "See the caveats in the documentation: https://pandas.pydata.org/pandas-docs/stable/user_guide/indexing.html#returning-a-view-versus-a-copy\n"
     ]
    }
   ],
   "source": [
    "save_epi_data(\"Italy\")\n",
    "save_epi_data(\"Peru\")\n",
    "save_epi_data(\"Ukraine\")\n",
    "save_epi_data(\"Serbia\")\n",
    "save_epi_data(\"Canada\")\n",
    "save_epi_data(\"Egypt\")"
   ]
  },
  {
   "cell_type": "code",
   "execution_count": null,
   "metadata": {},
   "outputs": [],
   "source": []
  }
 ],
 "metadata": {
  "kernelspec": {
   "display_name": "Python 3",
   "language": "python",
   "name": "python3"
  },
  "language_info": {
   "codemirror_mode": {
    "name": "ipython",
    "version": 3
   },
   "file_extension": ".py",
   "mimetype": "text/x-python",
   "name": "python",
   "nbconvert_exporter": "python",
   "pygments_lexer": "ipython3",
   "version": "3.7.4"
  }
 },
 "nbformat": 4,
 "nbformat_minor": 4
}
