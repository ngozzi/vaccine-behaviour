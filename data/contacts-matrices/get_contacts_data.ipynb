{
 "cells": [
  {
   "cell_type": "code",
   "execution_count": 1,
   "metadata": {},
   "outputs": [],
   "source": [
    "# libraries\n",
    "import pandas as pd"
   ]
  },
  {
   "cell_type": "markdown",
   "metadata": {},
   "source": [
    "# Contacts Matrices\n",
    "https://journals.plos.org/ploscompbiol/article?id=10.1371/journal.pcbi.1005697"
   ]
  },
  {
   "cell_type": "markdown",
   "metadata": {},
   "source": [
    "Define import function:"
   ]
  },
  {
   "cell_type": "code",
   "execution_count": 2,
   "metadata": {},
   "outputs": [],
   "source": [
    "def import_contacts(country, location):\n",
    "    \n",
    "    \"\"\"\n",
    "    This function save country-specific contact matrix in a given location\n",
    "        :param country (string): name of the country\n",
    "        :param savename (string): save name of the country\n",
    "        :param location (string): contacts location (all_locations, school, work, home, \n",
    "                                  other_locations)\n",
    "    \"\"\"\n",
    "    \n",
    "    # import the xls\n",
    "    xls1 = pd.ExcelFile(\"./contact_matrices_152_countries/MUestimates_\" + location + \"_1.xlsx\")\n",
    "    xls2 = pd.ExcelFile(\"./contact_matrices_152_countries/MUestimates_\" + location + \"_2.xlsx\")\n",
    "    \n",
    "    # check where the country is and save\n",
    "    if country in xls1.sheet_names:\n",
    "        df_country = pd.read_excel(\"./contact_matrices_152_countries/MUestimates_\" + location + \"_1.xlsx\", \n",
    "                                   country, engine=\"xlrd\")\n",
    "        df_country.to_csv(\"../countries/\" + country + \"/contacts_matrix/contacts_\" + location + \".csv\", index=False)\n",
    "    \n",
    "    elif country in xls2.sheet_names:\n",
    "        df_country = pd.read_excel(\"./contact_matrices_152_countries/MUestimates_\" + location + \"_2.xlsx\",\n",
    "                                   country, header=None, \n",
    "                                   names=['X1', 'X2', 'X3', 'X4', 'X5', 'X6', \n",
    "                                          'X7', 'X8', 'X9', 'X10', 'X11',\n",
    "                                          'X12', 'X13', 'X14', 'X15', 'X16'], engine=\"xlrd\")\n",
    "        df_country.to_csv(\"../countries/\" + country + \"/contacts_matrix/contacts_\" + location + \".csv\", index=False)\n",
    "        \n",
    "    else: \n",
    "        print(\"Country not found:\", country)"
   ]
  },
  {
   "cell_type": "markdown",
   "metadata": {},
   "source": [
    "Import raw data and save countries:"
   ]
  },
  {
   "cell_type": "code",
   "execution_count": 3,
   "metadata": {},
   "outputs": [
    {
     "name": "stderr",
     "output_type": "stream",
     "text": [
      "/opt/anaconda3/lib/python3.7/site-packages/openpyxl/styles/stylesheet.py:214: UserWarning: Workbook contains no default style, apply openpyxl's default\n",
      "  warn(\"Workbook contains no default style, apply openpyxl's default\")\n",
      "/opt/anaconda3/lib/python3.7/site-packages/ipykernel_launcher.py:18: FutureWarning: Your version of xlrd is 1.2.0. In xlrd >= 2.0, only the xls format is supported. As a result, the openpyxl engine will be used if it is installed and the engine argument is not specified. Install openpyxl instead.\n",
      "/opt/anaconda3/lib/python3.7/site-packages/ipykernel_launcher.py:26: FutureWarning: Your version of xlrd is 1.2.0. In xlrd >= 2.0, only the xls format is supported. As a result, the openpyxl engine will be used if it is installed and the engine argument is not specified. Install openpyxl instead.\n"
     ]
    }
   ],
   "source": [
    "for country in [\"Italy\", \"Egypt\", \"Peru\", \"Serbia\", \"Ukraine\", \"Canada\"]:\n",
    "    for location in [\"home\", \"school\", \"work\", \"other_locations\"]:\n",
    "        import_contacts(country, location)"
   ]
  },
  {
   "cell_type": "code",
   "execution_count": null,
   "metadata": {},
   "outputs": [],
   "source": []
  }
 ],
 "metadata": {
  "kernelspec": {
   "display_name": "Python 3",
   "language": "python",
   "name": "python3"
  },
  "language_info": {
   "codemirror_mode": {
    "name": "ipython",
    "version": 3
   },
   "file_extension": ".py",
   "mimetype": "text/x-python",
   "name": "python",
   "nbconvert_exporter": "python",
   "pygments_lexer": "ipython3",
   "version": "3.7.4"
  }
 },
 "nbformat": 4,
 "nbformat_minor": 4
}
