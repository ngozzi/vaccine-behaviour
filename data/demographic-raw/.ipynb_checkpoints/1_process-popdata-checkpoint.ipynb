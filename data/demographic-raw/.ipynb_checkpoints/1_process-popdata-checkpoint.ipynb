{
 "cells": [
  {
   "cell_type": "code",
   "execution_count": 1,
   "metadata": {},
   "outputs": [],
   "source": [
    "# libraries \n",
    "import pandas as pd \n",
    "import numpy as np"
   ]
  },
  {
   "cell_type": "code",
   "execution_count": 2,
   "metadata": {},
   "outputs": [],
   "source": [
    "def save_country(df, country, savename):\n",
    "\n",
    "    df_country = df.loc[(df[\"Region, subregion, country or area *\"]==country) & \\\n",
    "                        (df[\"Reference date (as of 1 July)\"]==2020)]\n",
    "\n",
    "    age_groups, pop = [], []\n",
    "    \n",
    "    for key in [\"0-4\", \"5-9\", '10-14', '15-19', '20-24', '25-29', '30-34', '35-39', \n",
    "                '40-44', '45-49', '50-54', '55-59', '60-64', '65-69', '70-74']:\n",
    "        \n",
    "        age_groups.append(key)\n",
    "        vals = df_country[[key]].values[0]\n",
    "        tot = np.sum([1000 * int(v.replace(\" \", \"\")) for v in vals])\n",
    "        pop.append(tot)\n",
    "   \n",
    "    age_groups.append(\"75+\")\n",
    "    vals = df_country[['75-79', '80-84', '85-89', '90-94', '95-99', '100+']].values[0]\n",
    "    tot = np.sum([1000 * int(v.replace(\" \", \"\")) for v in vals])\n",
    "    pop.append(tot)\n",
    "    \n",
    "    df_age = pd.DataFrame(data={\"Age\": age_groups, \"total\": pop})\n",
    "    df_age.to_csv(\"../countries/\" + savename + \"/demographic/pop_5years.csv\", index=False)"
   ]
  },
  {
   "cell_type": "markdown",
   "metadata": {},
   "source": [
    "https://population.un.org/wpp/Download/Standard/Population/"
   ]
  },
  {
   "cell_type": "code",
   "execution_count": 4,
   "metadata": {},
   "outputs": [],
   "source": [
    "un = pd.read_csv(\"./un_estimates.csv\")\n",
    "\n",
    "save_country(un, \"Ukraine\", \"Ukraine\")\n",
    "save_country(un, \"Peru\", \"Peru\")\n",
    "save_country(un, \"Serbia\", \"Serbia\")\n",
    "save_country(un, \"Italy\", \"Italy\")\n",
    "save_country(un, \"Canada\", \"Canada\")\n",
    "save_country(un, \"Egypt\", \"Egypt\")"
   ]
  },
  {
   "cell_type": "code",
   "execution_count": null,
   "metadata": {},
   "outputs": [],
   "source": []
  }
 ],
 "metadata": {
  "kernelspec": {
   "display_name": "Python 3",
   "language": "python",
   "name": "python3"
  },
  "language_info": {
   "codemirror_mode": {
    "name": "ipython",
    "version": 3
   },
   "file_extension": ".py",
   "mimetype": "text/x-python",
   "name": "python",
   "nbconvert_exporter": "python",
   "pygments_lexer": "ipython3",
   "version": "3.7.4"
  }
 },
 "nbformat": 4,
 "nbformat_minor": 4
}
